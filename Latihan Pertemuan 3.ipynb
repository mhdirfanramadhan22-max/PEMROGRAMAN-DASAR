{
  "nbformat": 4,
  "nbformat_minor": 0,
  "metadata": {
    "colab": {
      "provenance": [],
      "authorship_tag": "ABX9TyP+2rapUGlPgPOJrYaYqF/5",
      "include_colab_link": true
    },
    "kernelspec": {
      "name": "python3",
      "display_name": "Python 3"
    },
    "language_info": {
      "name": "python"
    }
  },
  "cells": [
    {
      "cell_type": "markdown",
      "metadata": {
        "id": "view-in-github",
        "colab_type": "text"
      },
      "source": [
        "<a href=\"https://colab.research.google.com/github/mhdirfanramadhan22-max/PEMROGRAMAN-DASAR/blob/main/Latihan%20Pertemuan%203.ipynb\" target=\"_parent\"><img src=\"https://colab.research.google.com/assets/colab-badge.svg\" alt=\"Open In Colab\"/></a>"
      ]
    },
    {
      "cell_type": "code",
      "execution_count": 3,
      "metadata": {
        "colab": {
          "base_uri": "https://localhost:8080/"
        },
        "id": "ZFk4Gtevc-X2",
        "outputId": "6f8e90ba-c1a3-4635-ddb1-2afa438aa362"
      },
      "outputs": [
        {
          "output_type": "stream",
          "name": "stdout",
          "text": [
            "========================================\n",
            "     PROGRAM CEK TAHUN KABISAT\n",
            "========================================\n",
            "Masukkan tahun yang ingin dicek: 2025\n",
            "\n",
            "========================================\n",
            "HASIL PENGECEKAN TAHUN 2025\n",
            "========================================\n",
            "❌ Tahun 2025 BUKAN tahun kabisat\n",
            "\n",
            "Alasan:\n",
            "- Tahun 2025 tidak habis dibagi 4\n",
            "\n",
            "========================================\n",
            "CONTOH TAHUN SEKITARNYA:\n",
            "========================================\n",
            "Tahun 2023: Bukan Kabisat\n",
            "Tahun 2024: Kabisat\n",
            "Tahun 2025: Bukan Kabisat\n",
            "Tahun 2026: Bukan Kabisat\n",
            "Tahun 2027: Bukan Kabisat\n"
          ]
        }
      ],
      "source": [
        "def cek_tahun_kabisat(tahun):\n",
        "    \"\"\"\n",
        "    Fungsi untuk menentukan apakah suatu tahun merupakan tahun kabisat\n",
        "    \"\"\"\n",
        "    # Ekspresi logika kompleks berdasarkan kondisi\n",
        "    if (tahun % 4 == 0 and tahun % 100 != 0) or (tahun % 400 == 0):\n",
        "        return True\n",
        "    else:\n",
        "        return False\n",
        "\n",
        "def main():\n",
        "    \"\"\"\n",
        "    Fungsi utama program\n",
        "    \"\"\"\n",
        "    print(\"=\" * 40)\n",
        "    print(\"     PROGRAM CEK TAHUN KABISAT\")\n",
        "    print(\"=\" * 40)\n",
        "\n",
        "    # Fungsi input\n",
        "    try:\n",
        "        tahun = int(input(\"Masukkan tahun yang ingin dicek: \"))\n",
        "\n",
        "        # Validasi input\n",
        "        if tahun < 0:\n",
        "            print(\"Error: Tahun harus bilangan positif!\")\n",
        "            return\n",
        "\n",
        "        # Operasi aritmatika dan logika\n",
        "        is_kabisat = cek_tahun_kabisat(tahun)\n",
        "\n",
        "        # Fungsi output\n",
        "        print(\"\\n\" + \"=\" * 40)\n",
        "        print(f\"HASIL PENGECEKAN TAHUN {tahun}\")\n",
        "        print(\"=\" * 40)\n",
        "\n",
        "        if is_kabisat:\n",
        "            print(f\"✅ Tahun {tahun} adalah TAHUN KABISAT\")\n",
        "            print(\"\\nAlasan:\")\n",
        "            if tahun % 400 == 0:\n",
        "                print(f\"- Tahun {tahun} habis dibagi 400\")\n",
        "            else:\n",
        "                print(f\"- Tahun {tahun} habis dibagi 4\")\n",
        "                print(f\"- Tahun {tahun} tidak habis dibagi 100\")\n",
        "        else:\n",
        "            print(f\"❌ Tahun {tahun} BUKAN tahun kabisat\")\n",
        "            print(\"\\nAlasan:\")\n",
        "            if tahun % 4 != 0:\n",
        "                print(f\"- Tahun {tahun} tidak habis dibagi 4\")\n",
        "            else:\n",
        "                print(f\"- Tahun {tahun} habis dibagi 4 dan 100\")\n",
        "                print(f\"- Tahun {tahun} tidak habis dibagi 400\")\n",
        "\n",
        "        # Contoh beberapa tahun sekitar input\n",
        "        print(\"\\n\" + \"=\" * 40)\n",
        "        print(\"CONTOH TAHUN SEKITARNYA:\")\n",
        "        print(\"=\" * 40)\n",
        "\n",
        "        for i in range(-2, 3):\n",
        "            tahun_sekitar = tahun + i\n",
        "            if tahun_sekitar > 0:\n",
        "                status = \"Kabisat\" if cek_tahun_kabisat(tahun_sekitar) else \"Bukan Kabisat\"\n",
        "                print(f\"Tahun {tahun_sekitar}: {status}\")\n",
        "\n",
        "    except ValueError:\n",
        "        print(\"Error: Masukkan harus berupa angka!\")\n",
        "\n",
        "# Menjalankan program\n",
        "if __name__ == \"__main__\":\n",
        "    main()\n"
      ]
    },
    {
      "cell_type": "code",
      "source": [
        "# Program sederhana versi minimalis\n",
        "def main_simple():\n",
        "    tahun = int(input(\"Masukkan tahun: \"))\n",
        "\n",
        "    # Ekspresi logika langsung dalam kondisi if\n",
        "    if (tahun % 4 == 0 and tahun % 100 != 0) or (tahun % 400 == 0):\n",
        "        print(f\"Tahun {tahun} adalah tahun kabisat\")\n",
        "    else:\n",
        "        print(f\"Tahun {tahun} bukan tahun kabisat\")\n",
        "\n",
        "# Jalankan program sederhana\n",
        "# main_simple()\n"
      ],
      "metadata": {
        "id": "XIzYa9SlgpmR"
      },
      "execution_count": 5,
      "outputs": []
    }
  ]
}