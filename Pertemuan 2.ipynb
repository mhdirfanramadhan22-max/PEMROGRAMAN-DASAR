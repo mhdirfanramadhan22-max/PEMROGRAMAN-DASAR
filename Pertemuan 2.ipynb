{
  "nbformat": 4,
  "nbformat_minor": 0,
  "metadata": {
    "colab": {
      "provenance": [],
      "authorship_tag": "ABX9TyNnTfuvQhw+Dk8W+tYkxuB5",
      "include_colab_link": true
    },
    "kernelspec": {
      "name": "python3",
      "display_name": "Python 3"
    },
    "language_info": {
      "name": "python"
    }
  },
  "cells": [
    {
      "cell_type": "markdown",
      "metadata": {
        "id": "view-in-github",
        "colab_type": "text"
      },
      "source": [
        "<a href=\"https://colab.research.google.com/github/mhdirfanramadhan22-max/PEMROGRAMAN-DASAR/blob/main/Pertemuan%202.ipynb\" target=\"_parent\"><img src=\"https://colab.research.google.com/assets/colab-badge.svg\" alt=\"Open In Colab\"/></a>"
      ]
    },
    {
      "cell_type": "code",
      "execution_count": 8,
      "metadata": {
        "colab": {
          "base_uri": "https://localhost:8080/"
        },
        "id": "1ufk8CUhVwO0",
        "outputId": "f828909e-173f-47e8-9068-8da51e58fb68"
      },
      "outputs": [
        {
          "output_type": "stream",
          "name": "stdout",
          "text": [
            "23\n",
            "43\n",
            "15\n",
            "34\n",
            "[23, 43, 15, 34]\n"
          ]
        }
      ],
      "source": [
        "# deklarasi variabel list\n",
        "numbers = [23, 43, 15, 34]\n",
        "# cara mengakses elemen dalam variabel list\n",
        "numbers[0]  # 23\n",
        "numbers[1]  # 43\n",
        "numbers[2]  # 15\n",
        "numbers[3]  # 34\n",
        "# cara mengubah niali elemen dalam variabel list\n",
        "numbers[2]  # 51\n",
        "numbers[2]  # 51\n",
        "\n",
        "\n",
        "print (numbers [0])\n",
        "print (numbers [1])\n",
        "print (numbers [2])\n",
        "print (numbers [3])\n",
        "print (numbers)\n",
        "\n",
        ""
      ]
    }
  ]
}