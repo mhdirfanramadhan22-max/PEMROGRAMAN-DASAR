{
  "nbformat": 4,
  "nbformat_minor": 0,
  "metadata": {
    "colab": {
      "provenance": [],
      "authorship_tag": "ABX9TyOAiEu/iFLSHllGDkeEORDy",
      "include_colab_link": true
    },
    "kernelspec": {
      "name": "python3",
      "display_name": "Python 3"
    },
    "language_info": {
      "name": "python"
    }
  },
  "cells": [
    {
      "cell_type": "markdown",
      "metadata": {
        "id": "view-in-github",
        "colab_type": "text"
      },
      "source": [
        "<a href=\"https://colab.research.google.com/github/mhdirfanramadhan22-max/PEMROGRAMAN-DASAR/blob/main/Pertemuan%205.ipynb\" target=\"_parent\"><img src=\"https://colab.research.google.com/assets/colab-badge.svg\" alt=\"Open In Colab\"/></a>"
      ]
    },
    {
      "cell_type": "code",
      "execution_count": 1,
      "metadata": {
        "colab": {
          "base_uri": "https://localhost:8080/"
        },
        "id": "_wixzbvj78bG",
        "outputId": "dbbd960a-e7ff-4619-d864-91b814e6ca27"
      },
      "outputs": [
        {
          "output_type": "stream",
          "name": "stdout",
          "text": [
            "--- Bilangan Ganjil 1-9 ---\n",
            "1\n",
            "3\n",
            "5\n",
            "7\n",
            "9\n"
          ]
        }
      ],
      "source": [
        "print(\"--- Bilangan Ganjil 1-9 ---\")\n",
        "for angka in range(1, 10, 2):\n",
        "    print(angka)"
      ]
    },
    {
      "cell_type": "code",
      "source": [
        "print(\"--- Soal 2 ---\")\n",
        "kode_berhenti = \"4232411037\"  # NIM sebagai kode berhenti\n",
        "input_pengguna = \"\"  # Inisialisasi awal sebagai string\n",
        "\n",
        "while input_pengguna != kode_berhenti:\n",
        "    try:\n",
        "        input_pengguna = input(\"Masukkan angka atau NIM (4232411037 untuk berhenti): \")\n",
        "        # Cek jika input adalah angka, konversi ke int untuk validasi\n",
        "        if input_pengguna.isdigit():\n",
        "            angka = int(input_pengguna)\n",
        "            print(f\"Angka yang dimasukkan: {angka}\")\n",
        "        else:\n",
        "            print(\"Input: \", input_pengguna)\n",
        "    except ValueError:\n",
        "        print(\"Terjadi kesalahan dalam konversi.\")\n",
        "\n",
        "print(\"Perulangan telah dihentikan oleh NIM 4232411037.\")"
      ],
      "metadata": {
        "colab": {
          "base_uri": "https://localhost:8080/"
        },
        "id": "8qkEkcjO8EX4",
        "outputId": "89a48cd5-14cc-4cda-c8a6-78ffc34d9fb1"
      },
      "execution_count": 2,
      "outputs": [
        {
          "output_type": "stream",
          "name": "stdout",
          "text": [
            "--- Soal 2 ---\n",
            "Masukkan angka atau NIM (4232411037 untuk berhenti): 5\n",
            "Angka yang dimasukkan: 5\n",
            "Masukkan angka atau NIM (4232411037 untuk berhenti): 10\n",
            "Angka yang dimasukkan: 10\n",
            "Masukkan angka atau NIM (4232411037 untuk berhenti): 4232411037\n",
            "Angka yang dimasukkan: 4232411037\n",
            "Perulangan telah dihentikan oleh NIM 4232411037.\n"
          ]
        }
      ]
    },
    {
      "cell_type": "code",
      "source": [
        "print(\"--- Soal 3 ---\")\n",
        "harga_barang = [15000, 25000, 10000, 5000]\n",
        "total_belanja = 0\n",
        "\n",
        "for harga in harga_barang:\n",
        "    total_belanja += harga\n",
        "\n",
        "print(\"Total biaya belanja adalah:\", total_belanja)"
      ],
      "metadata": {
        "colab": {
          "base_uri": "https://localhost:8080/"
        },
        "id": "vsFa2W1R8jNp",
        "outputId": "f9acf2a0-6471-4ae5-91b2-3caac5020461"
      },
      "execution_count": 3,
      "outputs": [
        {
          "output_type": "stream",
          "name": "stdout",
          "text": [
            "--- Soal 3 ---\n",
            "Total biaya belanja adalah: 55000\n"
          ]
        }
      ]
    },
    {
      "cell_type": "code",
      "source": [
        "print(\"--- Sistem Login dengan Batasan Percobaan ---\")\n",
        "percobaan_maksimal = 3\n",
        "percobaan_saat_ini = 1\n",
        "password_benar = \"irfan123\"\n",
        "\n",
        "while percobaan_saat_ini <= percobaan_maksimal:\n",
        "    print(f\"\\nPercobaan ke-{percobaan_saat_ini} dari {percobaan_maksimal}\")\n",
        "    password_input = input(\"Masukkan password: \")\n",
        "\n",
        "    if password_input == password_benar:\n",
        "        print(\"✅ Password benar!\")\n",
        "        break\n",
        "    else:\n",
        "        print(\"❌ Password salah!\")\n",
        "        sisa_kesempatan = percobaan_maksimal - percobaan_saat_ini\n",
        "        if sisa_kesempatan > 0:\n",
        "            print(f\"Kesempatan tersisa: {sisa_kesempatan}\")\n",
        "\n",
        "    percobaan_saat_ini += 1\n",
        "\n",
        "# Cek hasil akhir\n",
        "if percobaan_saat_ini > percobaan_maksimal:\n",
        "    print(\"\\n🚫 Kesempatan habis. Akses ditolak!\")\n",
        "else:\n",
        "    print(\"\\n🎉 Akses diterima! Selamat datang.\")"
      ],
      "metadata": {
        "colab": {
          "base_uri": "https://localhost:8080/"
        },
        "id": "Ow0FMFrH8t31",
        "outputId": "4a936028-507e-42d3-e58c-f32879d2f993"
      },
      "execution_count": 6,
      "outputs": [
        {
          "output_type": "stream",
          "name": "stdout",
          "text": [
            "--- Sistem Login dengan Batasan Percobaan ---\n",
            "\n",
            "Percobaan ke-1 dari 3\n",
            "Masukkan password: irfan555\n",
            "❌ Password salah!\n",
            "Kesempatan tersisa: 2\n",
            "\n",
            "Percobaan ke-2 dari 3\n",
            "Masukkan password: irfan000\n",
            "❌ Password salah!\n",
            "Kesempatan tersisa: 1\n",
            "\n",
            "Percobaan ke-3 dari 3\n",
            "Masukkan password: irfan123\n",
            "✅ Password benar!\n",
            "\n",
            "🎉 Akses diterima! Selamat datang.\n"
          ]
        }
      ]
    },
    {
      "cell_type": "code",
      "source": [
        "print(\"--- Soal 5 ---\")\n",
        "nama_proyek = \"POLITEKNIK NEGERI BATAM\"\n",
        "hasil_output = \"\"\n",
        "\n",
        "for karakter in nama_proyek:\n",
        "    hasil_output += karakter + \"-\"\n",
        "\n",
        "print(hasil_output)"
      ],
      "metadata": {
        "colab": {
          "base_uri": "https://localhost:8080/"
        },
        "id": "gvr3G01P9KOh",
        "outputId": "9d2b3280-c0d0-40d5-d8af-a801c153c11b"
      },
      "execution_count": 7,
      "outputs": [
        {
          "output_type": "stream",
          "name": "stdout",
          "text": [
            "--- Soal 5 ---\n",
            "P-O-L-I-T-E-K-N-I-K- -N-E-G-E-R-I- -B-A-T-A-M-\n"
          ]
        }
      ]
    },
    {
      "cell_type": "code",
      "source": [
        "print(\"=== COUNTDOWN 255 → 1 ===\")\n",
        "# Countdown dari 255 ke 1 dengan nomor urut\n",
        "for i, angka in enumerate(range(255, 0, -1), 1):\n",
        "    print(f\"{i:3d}. {angka:3d}\")\n",
        "print(\"Countdown selesai! 🎉\")"
      ],
      "metadata": {
        "colab": {
          "base_uri": "https://localhost:8080/"
        },
        "id": "Hl64pZlX9RYs",
        "outputId": "10ef9c32-c2ef-4a84-c1d8-4871015aa756"
      },
      "execution_count": 8,
      "outputs": [
        {
          "output_type": "stream",
          "name": "stdout",
          "text": [
            "=== COUNTDOWN 255 → 1 ===\n",
            "  1. 255\n",
            "  2. 254\n",
            "  3. 253\n",
            "  4. 252\n",
            "  5. 251\n",
            "  6. 250\n",
            "  7. 249\n",
            "  8. 248\n",
            "  9. 247\n",
            " 10. 246\n",
            " 11. 245\n",
            " 12. 244\n",
            " 13. 243\n",
            " 14. 242\n",
            " 15. 241\n",
            " 16. 240\n",
            " 17. 239\n",
            " 18. 238\n",
            " 19. 237\n",
            " 20. 236\n",
            " 21. 235\n",
            " 22. 234\n",
            " 23. 233\n",
            " 24. 232\n",
            " 25. 231\n",
            " 26. 230\n",
            " 27. 229\n",
            " 28. 228\n",
            " 29. 227\n",
            " 30. 226\n",
            " 31. 225\n",
            " 32. 224\n",
            " 33. 223\n",
            " 34. 222\n",
            " 35. 221\n",
            " 36. 220\n",
            " 37. 219\n",
            " 38. 218\n",
            " 39. 217\n",
            " 40. 216\n",
            " 41. 215\n",
            " 42. 214\n",
            " 43. 213\n",
            " 44. 212\n",
            " 45. 211\n",
            " 46. 210\n",
            " 47. 209\n",
            " 48. 208\n",
            " 49. 207\n",
            " 50. 206\n",
            " 51. 205\n",
            " 52. 204\n",
            " 53. 203\n",
            " 54. 202\n",
            " 55. 201\n",
            " 56. 200\n",
            " 57. 199\n",
            " 58. 198\n",
            " 59. 197\n",
            " 60. 196\n",
            " 61. 195\n",
            " 62. 194\n",
            " 63. 193\n",
            " 64. 192\n",
            " 65. 191\n",
            " 66. 190\n",
            " 67. 189\n",
            " 68. 188\n",
            " 69. 187\n",
            " 70. 186\n",
            " 71. 185\n",
            " 72. 184\n",
            " 73. 183\n",
            " 74. 182\n",
            " 75. 181\n",
            " 76. 180\n",
            " 77. 179\n",
            " 78. 178\n",
            " 79. 177\n",
            " 80. 176\n",
            " 81. 175\n",
            " 82. 174\n",
            " 83. 173\n",
            " 84. 172\n",
            " 85. 171\n",
            " 86. 170\n",
            " 87. 169\n",
            " 88. 168\n",
            " 89. 167\n",
            " 90. 166\n",
            " 91. 165\n",
            " 92. 164\n",
            " 93. 163\n",
            " 94. 162\n",
            " 95. 161\n",
            " 96. 160\n",
            " 97. 159\n",
            " 98. 158\n",
            " 99. 157\n",
            "100. 156\n",
            "101. 155\n",
            "102. 154\n",
            "103. 153\n",
            "104. 152\n",
            "105. 151\n",
            "106. 150\n",
            "107. 149\n",
            "108. 148\n",
            "109. 147\n",
            "110. 146\n",
            "111. 145\n",
            "112. 144\n",
            "113. 143\n",
            "114. 142\n",
            "115. 141\n",
            "116. 140\n",
            "117. 139\n",
            "118. 138\n",
            "119. 137\n",
            "120. 136\n",
            "121. 135\n",
            "122. 134\n",
            "123. 133\n",
            "124. 132\n",
            "125. 131\n",
            "126. 130\n",
            "127. 129\n",
            "128. 128\n",
            "129. 127\n",
            "130. 126\n",
            "131. 125\n",
            "132. 124\n",
            "133. 123\n",
            "134. 122\n",
            "135. 121\n",
            "136. 120\n",
            "137. 119\n",
            "138. 118\n",
            "139. 117\n",
            "140. 116\n",
            "141. 115\n",
            "142. 114\n",
            "143. 113\n",
            "144. 112\n",
            "145. 111\n",
            "146. 110\n",
            "147. 109\n",
            "148. 108\n",
            "149. 107\n",
            "150. 106\n",
            "151. 105\n",
            "152. 104\n",
            "153. 103\n",
            "154. 102\n",
            "155. 101\n",
            "156. 100\n",
            "157.  99\n",
            "158.  98\n",
            "159.  97\n",
            "160.  96\n",
            "161.  95\n",
            "162.  94\n",
            "163.  93\n",
            "164.  92\n",
            "165.  91\n",
            "166.  90\n",
            "167.  89\n",
            "168.  88\n",
            "169.  87\n",
            "170.  86\n",
            "171.  85\n",
            "172.  84\n",
            "173.  83\n",
            "174.  82\n",
            "175.  81\n",
            "176.  80\n",
            "177.  79\n",
            "178.  78\n",
            "179.  77\n",
            "180.  76\n",
            "181.  75\n",
            "182.  74\n",
            "183.  73\n",
            "184.  72\n",
            "185.  71\n",
            "186.  70\n",
            "187.  69\n",
            "188.  68\n",
            "189.  67\n",
            "190.  66\n",
            "191.  65\n",
            "192.  64\n",
            "193.  63\n",
            "194.  62\n",
            "195.  61\n",
            "196.  60\n",
            "197.  59\n",
            "198.  58\n",
            "199.  57\n",
            "200.  56\n",
            "201.  55\n",
            "202.  54\n",
            "203.  53\n",
            "204.  52\n",
            "205.  51\n",
            "206.  50\n",
            "207.  49\n",
            "208.  48\n",
            "209.  47\n",
            "210.  46\n",
            "211.  45\n",
            "212.  44\n",
            "213.  43\n",
            "214.  42\n",
            "215.  41\n",
            "216.  40\n",
            "217.  39\n",
            "218.  38\n",
            "219.  37\n",
            "220.  36\n",
            "221.  35\n",
            "222.  34\n",
            "223.  33\n",
            "224.  32\n",
            "225.  31\n",
            "226.  30\n",
            "227.  29\n",
            "228.  28\n",
            "229.  27\n",
            "230.  26\n",
            "231.  25\n",
            "232.  24\n",
            "233.  23\n",
            "234.  22\n",
            "235.  21\n",
            "236.  20\n",
            "237.  19\n",
            "238.  18\n",
            "239.  17\n",
            "240.  16\n",
            "241.  15\n",
            "242.  14\n",
            "243.  13\n",
            "244.  12\n",
            "245.  11\n",
            "246.  10\n",
            "247.   9\n",
            "248.   8\n",
            "249.   7\n",
            "250.   6\n",
            "251.   5\n",
            "252.   4\n",
            "253.   3\n",
            "254.   2\n",
            "255.   1\n",
            "Countdown selesai! 🎉\n"
          ]
        }
      ]
    },
    {
      "cell_type": "code",
      "source": [
        "print(\"--- Soal 7 Modifikasi ---\")\n",
        "kelurahan = \"seilekop\"\n",
        "\n",
        "for i, karakter in enumerate(kelurahan):\n",
        "    print(f\"Karakter ke-{i + 1}: {karakter}\")"
      ],
      "metadata": {
        "colab": {
          "base_uri": "https://localhost:8080/"
        },
        "id": "HsOMiRQD9cv5",
        "outputId": "9d98ca9c-812d-4a27-94ed-5108cb64a244"
      },
      "execution_count": 10,
      "outputs": [
        {
          "output_type": "stream",
          "name": "stdout",
          "text": [
            "--- Soal 7 Modifikasi ---\n",
            "Karakter ke-1: s\n",
            "Karakter ke-2: e\n",
            "Karakter ke-3: i\n",
            "Karakter ke-4: l\n",
            "Karakter ke-5: e\n",
            "Karakter ke-6: k\n",
            "Karakter ke-7: o\n",
            "Karakter ke-8: p\n"
          ]
        }
      ]
    },
    {
      "cell_type": "code",
      "source": [
        "print(\"--- Soal 8 Modifikasi ---\")\n",
        "data_angka = [10, 20, 30, 0, 50, 60]\n",
        "\n",
        "for angka in data_angka:\n",
        "    if angka == 0:          # Kondisi untuk mendeteksi angka 0\n",
        "        break               # Menghentikan perulangan\n",
        "    print(angka)\n",
        "\n",
        "print(\"Program berhenti karena angka 0 ditemukan.\")"
      ],
      "metadata": {
        "colab": {
          "base_uri": "https://localhost:8080/"
        },
        "id": "D3-Q924N9on6",
        "outputId": "f954c658-3566-403d-ed47-c72eb3fea715"
      },
      "execution_count": 11,
      "outputs": [
        {
          "output_type": "stream",
          "name": "stdout",
          "text": [
            "--- Soal 8 Modifikasi ---\n",
            "10\n",
            "20\n",
            "30\n",
            "Program berhenti karena angka 0 ditemukan.\n"
          ]
        }
      ]
    },
    {
      "cell_type": "code",
      "source": [
        "print(\"--- Soal 9 ---\")\n",
        "total = 0\n",
        "bilangan = 1\n",
        "batas = 20\n",
        "\n",
        "print(f\"Menghitung jumlah bilangan bulat sampai melebihi {batas}\")\n",
        "while total <= batas:\n",
        "    total += bilangan\n",
        "    bilangan += 1\n",
        "\n",
        "print(f\"Total terakhir: {total}\")\n",
        "print(f\"Deret: 1 + 2 + ... + {bilangan-1} = {total}\")"
      ],
      "metadata": {
        "colab": {
          "base_uri": "https://localhost:8080/"
        },
        "id": "wTrzjGFs94AN",
        "outputId": "a311fca2-7da5-41d2-a672-afc854a9cef3"
      },
      "execution_count": 12,
      "outputs": [
        {
          "output_type": "stream",
          "name": "stdout",
          "text": [
            "--- Soal 9 ---\n",
            "Menghitung jumlah bilangan bulat sampai melebihi 20\n",
            "Total terakhir: 21\n",
            "Deret: 1 + 2 + ... + 6 = 21\n"
          ]
        }
      ]
    },
    {
      "cell_type": "code",
      "source": [
        "print(\"--- Soal 10 ---\")\n",
        "jumlah_baris = 3\n",
        "\n",
        "for baris in range(jumlah_baris):\n",
        "    baris_teks = \"\"\n",
        "    for kolom in range(1):\n",
        "        baris_teks += \"Python \"\n",
        "    print(baris_teks)"
      ],
      "metadata": {
        "colab": {
          "base_uri": "https://localhost:8080/"
        },
        "id": "Ej_4nBmo-EIE",
        "outputId": "da66560f-6488-4a36-89b5-89ce3609dcb9"
      },
      "execution_count": 13,
      "outputs": [
        {
          "output_type": "stream",
          "name": "stdout",
          "text": [
            "--- Soal 10 ---\n",
            "Python \n",
            "Python \n",
            "Python \n"
          ]
        }
      ]
    }
  ]
}