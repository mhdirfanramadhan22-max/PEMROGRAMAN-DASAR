{
  "nbformat": 4,
  "nbformat_minor": 0,
  "metadata": {
    "colab": {
      "provenance": [],
      "authorship_tag": "ABX9TyMzzzFvgy8Z58EygUuqRuUQ",
      "include_colab_link": true
    },
    "kernelspec": {
      "name": "python3",
      "display_name": "Python 3"
    },
    "language_info": {
      "name": "python"
    }
  },
  "cells": [
    {
      "cell_type": "markdown",
      "metadata": {
        "id": "view-in-github",
        "colab_type": "text"
      },
      "source": [
        "<a href=\"https://colab.research.google.com/github/mhdirfanramadhan22-max/PEMROGRAMAN-DASAR/blob/main/Pertemuan%2004.ipynb\" target=\"_parent\"><img src=\"https://colab.research.google.com/assets/colab-badge.svg\" alt=\"Open In Colab\"/></a>"
      ]
    },
    {
      "cell_type": "code",
      "source": [
        "# Variabel untuk menyimpan umur pengunjung\n",
        "umur: int= 20\n",
        "\n",
        "# Program hanya akan mencetak pesan jika umur di atas 17\n",
        "if umur > 17:\n",
        "    print(\"Pengunjung adalah orang dewasa.\")"
      ],
      "metadata": {
        "colab": {
          "base_uri": "https://localhost:8080/"
        },
        "id": "QH62qaWxjzpY",
        "outputId": "bc99688e-26a2-41d6-aa1c-fb7b583cdf19"
      },
      "execution_count": 22,
      "outputs": [
        {
          "output_type": "stream",
          "name": "stdout",
          "text": [
            "Pengunjung adalah orang dewasa.\n"
          ]
        }
      ]
    },
    {
      "cell_type": "code",
      "source": [
        "username = input(\"Masukkan username: \")\n",
        "password = input(\"Massukan password: \")\n",
        "\n",
        "if username == \"admin\" and password == \"1234\":\n",
        "    print(\"Login berhasil\")\n",
        "else:\n",
        "    print(\"Login gagal\")"
      ],
      "metadata": {
        "colab": {
          "base_uri": "https://localhost:8080/"
        },
        "id": "6671RWEakcfp",
        "outputId": "bce0d9b2-8205-4b15-89eb-b184ab29b91d"
      },
      "execution_count": 19,
      "outputs": [
        {
          "output_type": "stream",
          "name": "stdout",
          "text": [
            "Masukkan username: admin\n",
            "Massukan password: 1234\n",
            "Login berhasil\n"
          ]
        }
      ]
    },
    {
      "cell_type": "code",
      "source": [
        "# Program untuk mengecek bonus dan diskon\n",
        "total_belanja = input(\"Total belanja : Rp \")\n",
        "# jumlah yang harus dibayar adalah berapa total belanjaanya\n",
        "# tapi kalau dapat diskon akan berkurang\n",
        "bayar = int(total_belanja)\n",
        "# jika dia belanja di atas 100rb maka berikan bonus dan diskon\n",
        "if int(total_belanja) > 100000:\n",
        "  print(\"Selamat Karena Belanja > Rp. 100.000 anda mendapat Voucher Makan \")\n",
        "  print(\"dan diskon 5%\")\n",
        "  # Hitung diskonnya\n",
        "  diskon = int(total_belanja) * 5/100 #5%\n",
        "  bayar = int(total_belanja) - diskon\n",
        "# cetak struk\n",
        "print(\"Total yang harus dibayar : Rp %s\" % bayar)\n",
        "print(\"Terima kasih sudah berbelanja di Toko Kami\")\n",
        "print(\"Kami Tunggu kunjungan anda selanjutnya.\")\n"
      ],
      "metadata": {
        "colab": {
          "base_uri": "https://localhost:8080/"
        },
        "id": "3cc2SmaZfZwR",
        "outputId": "4a734abe-3405-4b12-9ab9-3b841e18a536"
      },
      "execution_count": 12,
      "outputs": [
        {
          "output_type": "stream",
          "name": "stdout",
          "text": [
            "Total belanja : Rp 150000\n",
            "Selamat Karena Belanja > Rp. 100.000 anda mendapat Voucher Makan \n",
            "dan diskon 5%\n",
            "Total yang harus dibayar : Rp 142500.0\n",
            "Terima kasih sudah berbelanja di Toko Kami\n",
            "Kami Tunggu kunjungan anda selanjutnya.\n"
          ]
        }
      ]
    },
    {
      "cell_type": "code",
      "source": [
        "# Variabel untuk memeriksa apakah ada notifikasi baru\n",
        "ada_notifikasi_baru: bool = True\n",
        "\n",
        "if ada_notifikasi_baru:\n",
        "    print(\"Anda memiliki pesan baru!\")"
      ],
      "metadata": {
        "id": "KLM_zz3PjM9S"
      },
      "execution_count": null,
      "outputs": []
    },
    {
      "cell_type": "code",
      "source": [
        "umur = input(\"Berapa umur kamu: \")\n",
        "if int(umur) >= 18:\n",
        "    print(\"Kamu boleh membuat SIM\")\n",
        "else:\n",
        "  print(\"Kamu belum boleh membuat SIM\")"
      ],
      "metadata": {
        "colab": {
          "base_uri": "https://localhost:8080/"
        },
        "id": "0vXqGhIwmIjA",
        "outputId": "462f6452-6406-40ce-935e-b66034c6d483"
      },
      "execution_count": 23,
      "outputs": [
        {
          "output_type": "stream",
          "name": "stdout",
          "text": [
            "Berapa umur kamu: 20\n",
            "Kamu boleh membuat SIM\n"
          ]
        }
      ]
    },
    {
      "cell_type": "code",
      "source": [
        "total_belanja = #asumsikan total belanjat di atas 20rb\n",
        "\n",
        "if total_belanja > 200000:\n",
        "    diskon = total_belanja * 0.10\n",
        "    total_bayar = total_belanja - diskon\n",
        "    print(f\"Anda mendapat diskon! Total bayar: Rp {total_bayar}\")\n",
        "else:\n",
        "    print(f\"Total bayar: Rp {total_belanja}\")"
      ],
      "metadata": {
        "colab": {
          "base_uri": "https://localhost:8080/",
          "height": 106
        },
        "id": "jTUWGNDCjqgR",
        "outputId": "09326048-c1c1-49c5-82f5-537729abe0d8"
      },
      "execution_count": 31,
      "outputs": [
        {
          "output_type": "error",
          "ename": "SyntaxError",
          "evalue": "invalid syntax (ipython-input-1917992284.py, line 1)",
          "traceback": [
            "\u001b[0;36m  File \u001b[0;32m\"/tmp/ipython-input-1917992284.py\"\u001b[0;36m, line \u001b[0;32m1\u001b[0m\n\u001b[0;31m    total_belanja = #asumsikan total belanjat di atas 20rb\u001b[0m\n\u001b[0m                    ^\u001b[0m\n\u001b[0;31mSyntaxError\u001b[0m\u001b[0;31m:\u001b[0m invalid syntax\n"
          ]
        }
      ]
    },
    {
      "cell_type": "code",
      "source": [
        "angka = int(input(\"Masukkan bilangan: \"))\n",
        "\n",
        "if angka % 2 == 0:\n",
        "    print(\"Bilangan Genap\")\n",
        "else:\n",
        "    print(\"Bilangan Ganjil\")"
      ],
      "metadata": {
        "colab": {
          "base_uri": "https://localhost:8080/"
        },
        "id": "uOclRgPPnYY4",
        "outputId": "3d2e4a96-b881-410a-f314-672f94d1c13c"
      },
      "execution_count": 30,
      "outputs": [
        {
          "output_type": "stream",
          "name": "stdout",
          "text": [
            "Masukkan bilangan: 2\n",
            "Bilangan Genap\n"
          ]
        }
      ]
    },
    {
      "cell_type": "code",
      "source": [
        "# 1. Program cek kelipatan 5\n",
        "angka = int(input(\"Masukkan sebuah angka: \"))\n",
        "if angka % 5 == 0:\n",
        "    print(\"Kelipatan 5\")\n",
        "else:\n",
        "    print(\"Bukan kelipatan 5\")\n",
        "\n",
        "# 2. Menentukan Tahun Kabisat\n",
        "tahun = int(input(\"Masukkan tahun: \"))\n",
        "if tahun % 400 == 0:\n",
        "    print(\"Tahun Kabisat\")\n",
        "elif tahun % 4 == 0 and tahun % 100 != 0:\n",
        "    print(\"Tahun Kabisat\")\n",
        "else:\n",
        "    print(\"Bukan Tahun Kabisat\")\n",
        "\n",
        "# 3. Soal Matematika dengan if else\n",
        "jawaban = int(input(\"Berapakah hasil dari 10 + 5? \"))\n",
        "if jawaban == 15:\n",
        "    print(\"Jawaban benar!\")\n",
        "else:\n",
        "    print(\"Jawaban salah, seharusnya 15.\")\n",
        "\n",
        "# 4. Program input bulan\n",
        "bulan = int(input(\"Masukkan angka bulan (1-12): \"))\n",
        "daftar_bulan = {\n",
        "    1: \"Januari\", 2: \"Februari\", 3: \"Maret\", 4: \"April\",\n",
        "    5: \"Mei\", 6: \"Juni\", 7: \"Juli\", 8: \"Agustus\",\n",
        "    9: \"September\", 10: \"Oktober\", 11: \"November\", 12: \"Desember\"\n",
        "}\n",
        "if bulan in daftar_bulan:\n",
        "    print(\"Bulan:\", daftar_bulan[bulan])\n",
        "else:\n",
        "    print(\"Input salah\")\n",
        "\n",
        "# 5. Program salam berdasarkan jam\n",
        "jam = int(input(\"Masukkan jam (0-23): \"))\n",
        "if 0 <= jam <= 11:\n",
        "    print(\"Selamat Pagi\")\n",
        "elif 12 <= jam <= 15:\n",
        "    print(\"Selamat Siang\")\n",
        "elif 16 <= jam <= 18:\n",
        "    print(\"Selamat Sore\")\n",
        "elif 19 <= jam <= 23:\n",
        "    print(\"Selamat Malam\")\n",
        "else:\n",
        "    print(\"Input salah\")\n"
      ],
      "metadata": {
        "colab": {
          "base_uri": "https://localhost:8080/"
        },
        "id": "CnwdiH5QVl7R",
        "outputId": "37d2cbc6-211b-4d72-b1a9-43d0271e2231"
      },
      "execution_count": 25,
      "outputs": [
        {
          "output_type": "stream",
          "name": "stdout",
          "text": [
            "Masukkan sebuah angka: 5\n",
            "Kelipatan 5\n",
            "Masukkan tahun: 2024\n",
            "Tahun Kabisat\n",
            "Berapakah hasil dari 10 + 5? 15\n",
            "Jawaban benar!\n",
            "Masukkan angka bulan (1-12): 10\n",
            "Bulan: Oktober\n",
            "Masukkan jam (0-23): 20\n",
            "Selamat Malam\n"
          ]
        }
      ]
    },
    {
      "cell_type": "code",
      "source": [
        "90print(\"=\"*30)\n",
        "print(\"SELAMAT DATANG DI KAFE GEMINI\")\n",
        "print(\"=\"*30)\n",
        "print(\"Menu Makanan & Minuman:\")\n",
        "print(\"1. Kopi Hitam  - Rp 12.000\")\n",
        "print(\"2. Teh Manis   - Rp  8.000\")\n",
        "print(\"3. Roti Bakar  - Rp 15.000\")\n",
        "print(\"4. Mie Instan  - Rp 10.000\")\n",
        "print(\"=\"*30)\n",
        "\n",
        "pilihan_str = input(\"Silakan masukkan nomor pilihan Anda (1-4): \")\n",
        "pilihan = int(pilihan_str)\n",
        "nama_pesanan = \"\"\n",
        "harga = 0\n",
        "\n",
        "if pilihan == 1:\n",
        "    nama_pesanan = \"Kopi Hitam\"\n",
        "    harga = 12000\n",
        "elif pilihan == 2:\n",
        "    nama_pesanan = \"Teh Manis\"\n",
        "    harga = 8000\n",
        "elif pilihan == 3:\n",
        "    nama_pesanan = \"Roti Bakar\"\n",
        "    harga = 15000\n",
        "elif pilihan == 4:\n",
        "    nama_pesanan = \"Mie Instan\"\n",
        "    harga = 10000\n",
        "else:\n",
        "    print(\"Maaf, pilihan menu tidak valid. Silakan jalankan ulang program.\")\n",
        "\n",
        "# Jika ada pesanan\n",
        "if harga > 0:\n",
        "    print(f\"Anda memesan: {nama_pesanan} dengan harga Rp {harga}\")\n",
        "\n",
        "    # === Penerapan Diskon ===\n",
        "    if harga >= 15000:\n",
        "        diskon = 0.70\n",
        "    elif harga >= 10000:\n",
        "        diskon = 0.50\n",
        "    else:\n",
        "        diskon = 0.30\n",
        "\n",
        "    potongan = harga * diskon\n",
        "    total_harga = harga - potongan\n",
        "\n",
        "    print(\"=\"*30)\n",
        "    print(\"== STRUK PEMBAYARAN ==\")\n",
        "    print(f\"Pesanan Anda     : {nama_pesanan}\")\n",
        "    print(f\"Harga Asli       : Rp {harga}\")\n",
        "    print(f\"Diskon ({int(diskon*100)}%) : Rp {int(potongan)}\")\n",
        "    print(f\"Total Bayar      : Rp {int(total_harga)}\")\n",
        "\n",
        "    uang_dibayar_str = input(f\"Masukkan jumlah uang Anda: Rp \")\n",
        "    uang_dibayar = int(uang_dibayar_str)\n",
        "\n",
        "    if uang_dibayar >= total_harga:\n",
        "        kembalian = uang_dibayar - total_harga\n",
        "        print(f\"Uang Pembayaran  : Rp {uang_dibayar}\")\n",
        "        print(f\"Kembalian        : Rp {kembalian}\")\n",
        "        print(\"Terima kasih telah berbelanja!\")\n",
        "    else:\n",
        "        kekurangan = total_harga - uang_dibayar\n",
        "        print(f\"Maaf, uang Anda kurang Rp {kekurangan}\")\n",
        "\n",
        "print(\"=\"*30)\n"
      ],
      "metadata": {
        "colab": {
          "base_uri": "https://localhost:8080/"
        },
        "id": "Q3eHQNd4Vz0x",
        "outputId": "9637dec0-b3ba-4e51-fdb7-8d9904a0a5aa"
      },
      "execution_count": null,
      "outputs": [
        {
          "output_type": "stream",
          "name": "stdout",
          "text": [
            "==============================\n",
            "SELAMAT DATANG DI KAFE GEMINI\n",
            "==============================\n",
            "Menu Makanan & Minuman:\n",
            "1. Kopi Hitam  - Rp 12.000\n",
            "2. Teh Manis   - Rp  8.000\n",
            "3. Roti Bakar  - Rp 15.000\n",
            "4. Mie Instan  - Rp 10.000\n",
            "==============================\n",
            "Silakan masukkan nomor pilihan Anda (1-4): 1\n",
            "Anda memesan: Kopi Hitam dengan harga Rp 12000\n",
            "==============================\n",
            "== STRUK PEMBAYARAN ==\n",
            "Pesanan Anda     : Kopi Hitam\n",
            "Harga Asli       : Rp 12000\n",
            "Diskon (50%) : Rp 6000\n",
            "Total Bayar      : Rp 6000\n",
            "Masukkan jumlah uang Anda: Rp 15000\n",
            "Uang Pembayaran  : Rp 15000\n",
            "Kembalian        : Rp 9000.0\n",
            "Terima kasih telah berbelanja!\n",
            "==============================\n"
          ]
        }
      ]
    }
  ]
}