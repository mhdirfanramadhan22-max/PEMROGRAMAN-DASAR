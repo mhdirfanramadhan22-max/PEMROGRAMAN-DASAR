{
  "nbformat": 4,
  "nbformat_minor": 0,
  "metadata": {
    "colab": {
      "provenance": [],
      "authorship_tag": "ABX9TyNb95q5fKzx29+BdeUjzIz0",
      "include_colab_link": true
    },
    "kernelspec": {
      "name": "python3",
      "display_name": "Python 3"
    },
    "language_info": {
      "name": "python"
    }
  },
  "cells": [
    {
      "cell_type": "markdown",
      "metadata": {
        "id": "view-in-github",
        "colab_type": "text"
      },
      "source": [
        "<a href=\"https://colab.research.google.com/github/mhdirfanramadhan22-max/PEMROGRAMAN-DASAR/blob/main/PERTEMUAN%2002.ipynb\" target=\"_parent\"><img src=\"https://colab.research.google.com/assets/colab-badge.svg\" alt=\"Open In Colab\"/></a>"
      ]
    },
    {
      "cell_type": "code",
      "execution_count": null,
      "metadata": {
        "colab": {
          "base_uri": "https://localhost:8080/"
        },
        "id": "3buDDGQmrFib",
        "outputId": "b3ebd8a9-ed42-41a5-9029-2ef8cddc6242"
      },
      "outputs": [
        {
          "output_type": "stream",
          "name": "stdout",
          "text": [
            "First Name : Irfan\n",
            "Last Name  : Ramadhan\n",
            "Age        : 19\n",
            "Married    : False\n"
          ]
        }
      ],
      "source": [
        "\n",
        "firstName = \"Irfan\"\n",
        "lastName = \"Ramadhan\"\n",
        "age = 19\n",
        "isMarried= False\n",
        "\n",
        "\n",
        "print(\"First Name :\", firstName)\n",
        "print(\"Last Name  :\", lastName)\n",
        "print(\"Age        :\", age)\n",
        "print(\"Married    :\", isMarried)\n",
        "\n",
        "\n"
      ]
    }
  ]
}