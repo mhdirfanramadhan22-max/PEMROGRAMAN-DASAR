{
  "nbformat": 4,
  "nbformat_minor": 0,
  "metadata": {
    "colab": {
      "provenance": [],
      "toc_visible": true,
      "authorship_tag": "ABX9TyOfKu73EHD4ryDQYjW3YVin",
      "include_colab_link": true
    },
    "kernelspec": {
      "name": "python3",
      "display_name": "Python 3"
    },
    "language_info": {
      "name": "python"
    }
  },
  "cells": [
    {
      "cell_type": "markdown",
      "metadata": {
        "id": "view-in-github",
        "colab_type": "text"
      },
      "source": [
        "<a href=\"https://colab.research.google.com/github/mhdirfanramadhan22-max/PEMROGRAMAN-DASAR/blob/main/Pertemuan%203.ipynb\" target=\"_parent\"><img src=\"https://colab.research.google.com/assets/colab-badge.svg\" alt=\"Open In Colab\"/></a>"
      ]
    },
    {
      "cell_type": "code",
      "source": [
        "def is_leap_year(year):\n",
        "    \"\"\"\n",
        "    Menentukan apakah suatu tahun adalah tahun kabisat.\n",
        "    Syarat:\n",
        "    - Tahun habis dibagi 4 tapi tidak habis dibagi 100\n",
        "    - Atau tahun habis dibagi 400\n",
        "    \"\"\"\n",
        "    return (year % 4 == 0 and year % 100 != 0) or (year % 400 == 0)\n",
        "\n",
        "def main():\n",
        "    # Input tahun dari pengguna\n",
        "    tahun = int(input(\"Masukkan tahun: \"))\n",
        "\n",
        "    # Mengecek dan menampilkan apakah tahun tersebut kabisat atau bukan\n",
        "    if is_leap_year(tahun):\n",
        "        print(f\"Tahun {tahun} adalah tahun kabisat.\")\n",
        "    else:\n",
        "        print(f\"Tahun {tahun} bukan tahun kabisat.\")\n",
        "\n",
        "# Menjalankan program utama\n",
        "if __name__ == \"__main__\":\n",
        "    main()\n"
      ],
      "metadata": {
        "colab": {
          "base_uri": "https://localhost:8080/"
        },
        "id": "L1UiUatxFy-O",
        "outputId": "36033389-869d-4ac6-9d6d-d499748ce9e9"
      },
      "execution_count": 21,
      "outputs": [
        {
          "output_type": "stream",
          "name": "stdout",
          "text": [
            "Masukkan tahun: 2000\n",
            "Tahun 2000 adalah tahun kabisat.\n"
          ]
        }
      ]
    },
    {
      "cell_type": "code",
      "source": [
        "from google.colab import drive\n",
        "drive.mount('/content/drive')"
      ],
      "metadata": {
        "id": "ufvJEbKcOudr"
      },
      "execution_count": null,
      "outputs": []
    },
    {
      "cell_type": "code",
      "source": [
        "# Fungsi untuk memasukkan dua angka dari user\n",
        "def input_angka():\n",
        "    angka1 = int(input(\"Masukkan angka pertama: \"))\n",
        "    angka2 = int(input(\"Masukkan angka kedua: \"))\n",
        "    return angka1, angka2\n",
        "\n",
        "# Fungsi untuk melakukan operasi aritmatika (penjumlahan)\n",
        "def tambah(a, b):\n",
        "    return a + b\n",
        "\n",
        "# Fungsi untuk menampilkan hasil\n",
        "def output_hasil(hasil):\n",
        "    print(\"Hasil penjumlahan adalah:\", hasil)\n",
        "\n",
        "# Program utama\n",
        "def main():\n",
        "    # Lingkup variabel angka1 dan angka2 berada di fungsi main\n",
        "    angka1, angka2 = input_angka()\n",
        "    hasil = tambah(angka1, angka2)\n",
        "    output_hasil(hasil)\n",
        "\n",
        "# Memanggil fungsi utama\n",
        "main()\n"
      ],
      "metadata": {
        "colab": {
          "base_uri": "https://localhost:8080/"
        },
        "id": "pCMncuFwJ0g1",
        "outputId": "fcc56991-f8ff-4a99-a4f5-62b0df15cde3"
      },
      "execution_count": null,
      "outputs": [
        {
          "output_type": "stream",
          "name": "stdout",
          "text": [
            "Masukkan angka pertama: 8\n",
            "Masukkan angka kedua: 2\n",
            "Hasil penjumlahan adalah: 10\n"
          ]
        }
      ]
    },
    {
      "cell_type": "code",
      "source": [
        "# Program Kasir Sederhana di Kedai Kopi\n",
        "\n",
        "# Fungsi untuk menghitung total belanja\n",
        "def hitung_total_belanja(harga_item, member):\n",
        "    # 1. Hitung Subtotal\n",
        "    subtotal = sum(harga_item)\n",
        "\n",
        "    # 2. Evaluasi Syarat Diskon\n",
        "    # Diskon 15% jika member dan subtotal > 100000\n",
        "    if member and subtotal > 100000:\n",
        "        diskon = 0.15 * subtotal\n",
        "    else:\n",
        "        diskon = 0\n",
        "\n",
        "    # 3. Hitung Harga Setelah Diskon\n",
        "    harga_setelah_diskon = subtotal - diskon\n",
        "\n",
        "    # 4. Hitung PPN (11%)\n",
        "    ppn = 0.11 * harga_setelah_diskon\n",
        "\n",
        "    # 5. Hitung Total Akhir\n",
        "    total_akhir = harga_setelah_diskon + ppn\n",
        "\n",
        "    # Membuat laporan hasil perhitungan\n",
        "    laporan = f\"\"\"\n",
        "Laporan Belanja Kedai Kopi\n",
        "------------------------------\n",
        "Subtotal            : Rp {subtotal:,.2f}\n",
        "Diskon              : Rp {diskon:,.2f}\n",
        "Harga Setelah Diskon: Rp {harga_setelah_diskon:,.2f}\n",
        "PPN (11%)           : Rp {ppn:,.2f}\n",
        "Total yang harus dibayar: Rp {total_akhir:,.2f}\n",
        "\"\"\"\n",
        "    return laporan\n",
        "\n",
        "# Contoh data input\n",
        "harga_item = [50000, 30000, 40000]  # daftar harga item yang dibeli\n",
        "member = True  # apakah pelanggan adalah member\n",
        "\n",
        "# Menjalankan fungsi dan menampilkan laporan\n",
        "print(hitung_total_belanja(harga_item, member))\n"
      ],
      "metadata": {
        "colab": {
          "base_uri": "https://localhost:8080/"
        },
        "id": "bty2QWFtKY3I",
        "outputId": "b2e36126-b71e-4711-900a-2976c9487123"
      },
      "execution_count": null,
      "outputs": [
        {
          "output_type": "stream",
          "name": "stdout",
          "text": [
            "\n",
            "Laporan Belanja Kedai Kopi\n",
            "------------------------------\n",
            "Subtotal            : Rp 120,000.00\n",
            "Diskon              : Rp 18,000.00\n",
            "Harga Setelah Diskon: Rp 102,000.00\n",
            "PPN (11%)           : Rp 11,220.00\n",
            "Total yang harus dibayar: Rp 113,220.00\n",
            "\n"
          ]
        }
      ]
    }
  ]
}