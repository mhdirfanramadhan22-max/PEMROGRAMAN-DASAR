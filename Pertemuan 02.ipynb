{
  "nbformat": 4,
  "nbformat_minor": 0,
  "metadata": {
    "colab": {
      "provenance": [],
      "authorship_tag": "ABX9TyPQrnag4HBagnsAho7iuCzZ",
      "include_colab_link": true
    },
    "kernelspec": {
      "name": "python3",
      "display_name": "Python 3"
    },
    "language_info": {
      "name": "python"
    }
  },
  "cells": [
    {
      "cell_type": "markdown",
      "metadata": {
        "id": "view-in-github",
        "colab_type": "text"
      },
      "source": [
        "<a href=\"https://colab.research.google.com/github/mhdirfanramadhan22-max/PEMROGRAMAN-DASAR/blob/main/Pertemuan%2002.ipynb\" target=\"_parent\"><img src=\"https://colab.research.google.com/assets/colab-badge.svg\" alt=\"Open In Colab\"/></a>"
      ]
    },
    {
      "cell_type": "code",
      "execution_count": 3,
      "metadata": {
        "colab": {
          "base_uri": "https://localhost:8080/"
        },
        "id": "CZ17QhOw4q4l",
        "outputId": "c6a70c5e-c700-4ad0-a7d1-aabfdfe652ae"
      },
      "outputs": [
        {
          "output_type": "stream",
          "name": "stdout",
          "text": [
            "Personal Data:\n",
            "First Name : Irfan\n",
            "Last Name: Ramadhan\n",
            "Age: 19\n",
            "Married: False\n"
          ]
        }
      ],
      "source": [
        "data_diri = {\n",
        "    \"firstName\": \"Irfan\",\n",
        "    \"lastName\" : \"Ramadhan\",\n",
        "    \"age\" : 19,\n",
        "    \"isMarried\" : False\n",
        "}\n",
        "\n",
        "\n",
        "print(\"Personal Data:\")\n",
        "print(\"First Name :\", data_diri[\"firstName\"])\n",
        "print(\"Last Name:\", data_diri[\"lastName\"])\n",
        "print(\"Age:\", data_diri[\"age\"])\n",
        "print(\"Married:\", data_diri[\"isMarried\"])\n"
      ]
    }
  ]
}