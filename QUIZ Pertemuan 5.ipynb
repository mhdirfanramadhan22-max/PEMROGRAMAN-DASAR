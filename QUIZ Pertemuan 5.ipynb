{
  "nbformat": 4,
  "nbformat_minor": 0,
  "metadata": {
    "colab": {
      "provenance": [],
      "authorship_tag": "ABX9TyOM9FIOJMir12v2FcyFkD2S",
      "include_colab_link": true
    },
    "kernelspec": {
      "name": "python3",
      "display_name": "Python 3"
    },
    "language_info": {
      "name": "python"
    }
  },
  "cells": [
    {
      "cell_type": "markdown",
      "metadata": {
        "id": "view-in-github",
        "colab_type": "text"
      },
      "source": [
        "<a href=\"https://colab.research.google.com/github/mhdirfanramadhan22-max/PEMROGRAMAN-DASAR/blob/main/QUIZ%20Pertemuan%205.ipynb\" target=\"_parent\"><img src=\"https://colab.research.google.com/assets/colab-badge.svg\" alt=\"Open In Colab\"/></a>"
      ]
    },
    {
      "cell_type": "code",
      "execution_count": null,
      "metadata": {
        "colab": {
          "base_uri": "https://localhost:8080/"
        },
        "id": "xdhzfD6rSU7S",
        "outputId": "4fb6053e-d51d-4db1-ec6c-a4f488184764"
      },
      "outputs": [
        {
          "output_type": "stream",
          "name": "stdout",
          "text": [
            "IRFAN\n",
            "IRFAN\n",
            "IRFAN\n",
            "IRFAN\n",
            "IRFAN\n",
            "IRFAN\n",
            "IRFAN\n",
            "IRFAN\n",
            "IRFAN\n",
            "IRFAN\n",
            "IRFAN\n",
            "IRFAN\n",
            "IRFAN\n",
            "IRFAN\n",
            "IRFAN\n",
            "IRFAN\n",
            "IRFAN\n",
            "IRFAN\n",
            "IRFAN\n",
            "IRFAN\n",
            "IRFAN\n",
            "IRFAN\n",
            "IRFAN\n",
            "IRFAN\n",
            "IRFAN\n",
            "IRFAN\n",
            "IRFAN\n",
            "IRFAN\n",
            "IRFAN\n",
            "IRFAN\n",
            "IRFAN\n",
            "IRFAN\n",
            "IRFAN\n",
            "IRFAN\n",
            "IRFAN\n",
            "IRFAN\n",
            "IRFAN\n",
            "IRFAN\n",
            "IRFAN\n",
            "IRFAN\n",
            "IRFAN\n",
            "IRFAN\n",
            "IRFAN\n",
            "IRFAN\n",
            "IRFAN\n",
            "IRFAN\n",
            "IRFAN\n",
            "IRFAN\n",
            "IRFAN\n",
            "IRFAN\n",
            "IRFAN\n",
            "IRFAN\n",
            "IRFAN\n",
            "IRFAN\n",
            "IRFAN\n",
            "IRFAN\n",
            "IRFAN\n",
            "IRFAN\n",
            "IRFAN\n",
            "IRFAN\n",
            "IRFAN\n",
            "IRFAN\n",
            "IRFAN\n",
            "IRFAN\n",
            "IRFAN\n",
            "IRFAN\n",
            "IRFAN\n",
            "IRFAN\n",
            "IRFAN\n",
            "IRFAN\n",
            "IRFAN\n",
            "IRFAN\n",
            "IRFAN\n",
            "IRFAN\n",
            "IRFAN\n",
            "IRFAN\n",
            "IRFAN\n",
            "IRFAN\n",
            "IRFAN\n",
            "IRFAN\n",
            "IRFAN\n",
            "IRFAN\n",
            "IRFAN\n",
            "IRFAN\n",
            "IRFAN\n",
            "IRFAN\n",
            "IRFAN\n",
            "IRFAN\n",
            "IRFAN\n",
            "IRFAN\n",
            "IRFAN\n",
            "IRFAN\n",
            "IRFAN\n",
            "IRFAN\n",
            "IRFAN\n",
            "IRFAN\n",
            "IRFAN\n",
            "IRFAN\n",
            "IRFAN\n",
            "IRFAN\n",
            "IRFAN\n",
            "IRFAN\n",
            "IRFAN\n",
            "IRFAN\n",
            "IRFAN\n",
            "IRFAN\n",
            "IRFAN\n",
            "IRFAN\n",
            "IRFAN\n",
            "IRFAN\n",
            "IRFAN\n",
            "IRFAN\n",
            "IRFAN\n",
            "IRFAN\n",
            "IRFAN\n",
            "IRFAN\n",
            "IRFAN\n",
            "IRFAN\n",
            "IRFAN\n",
            "IRFAN\n",
            "IRFAN\n",
            "IRFAN\n",
            "IRFAN\n",
            "IRFAN\n",
            "IRFAN\n",
            "IRFAN\n",
            "IRFAN\n",
            "IRFAN\n",
            "IRFAN\n",
            "IRFAN\n",
            "IRFAN\n",
            "IRFAN\n",
            "IRFAN\n",
            "IRFAN\n",
            "IRFAN\n",
            "IRFAN\n",
            "IRFAN\n",
            "IRFAN\n",
            "IRFAN\n",
            "IRFAN\n",
            "IRFAN\n",
            "IRFAN\n",
            "IRFAN\n",
            "IRFAN\n",
            "IRFAN\n",
            "IRFAN\n",
            "IRFAN\n",
            "IRFAN\n",
            "IRFAN\n",
            "IRFAN\n",
            "IRFAN\n",
            "IRFAN\n",
            "IRFAN\n",
            "IRFAN\n",
            "IRFAN\n",
            "IRFAN\n",
            "IRFAN\n",
            "IRFAN\n",
            "IRFAN\n",
            "IRFAN\n",
            "IRFAN\n",
            "IRFAN\n",
            "IRFAN\n",
            "IRFAN\n",
            "IRFAN\n",
            "IRFAN\n",
            "IRFAN\n",
            "IRFAN\n",
            "IRFAN\n",
            "IRFAN\n",
            "IRFAN\n",
            "IRFAN\n",
            "IRFAN\n",
            "IRFAN\n",
            "IRFAN\n",
            "IRFAN\n",
            "IRFAN\n",
            "IRFAN\n",
            "IRFAN\n",
            "IRFAN\n",
            "IRFAN\n",
            "IRFAN\n",
            "IRFAN\n",
            "IRFAN\n",
            "IRFAN\n",
            "IRFAN\n",
            "IRFAN\n",
            "IRFAN\n",
            "IRFAN\n",
            "IRFAN\n",
            "IRFAN\n",
            "IRFAN\n",
            "IRFAN\n",
            "IRFAN\n",
            "IRFAN\n",
            "IRFAN\n",
            "IRFAN\n",
            "IRFAN\n",
            "IRFAN\n",
            "IRFAN\n"
          ]
        }
      ],
      "source": [
        "nama = \"IRFAN\" # Ganti dengan nama Anda\n",
        "counter = 0\n",
        "\n",
        "while counter < 200:\n",
        "    print(nama)\n",
        "    counter += 1\n"
      ]
    },
    {
      "cell_type": "code",
      "source": [
        "# Program Irfan - Menampilkan angka 1 sampai 500\n",
        "for i in range(1, 500):\n",
        "    print(i, end=' ')\n"
      ],
      "metadata": {
        "colab": {
          "base_uri": "https://localhost:8080/"
        },
        "outputId": "f6362759-999e-40c6-f597-5619ba36f50a",
        "id": "rOPCpYKIVv14"
      },
      "execution_count": null,
      "outputs": [
        {
          "output_type": "stream",
          "name": "stdout",
          "text": [
            "1 2 3 4 5 6 7 8 9 10 11 12 13 14 15 16 17 18 19 20 21 22 23 24 25 26 27 28 29 30 31 32 33 34 35 36 37 38 39 40 41 42 43 44 45 46 47 48 49 50 51 52 53 54 55 56 57 58 59 60 61 62 63 64 65 66 67 68 69 70 71 72 73 74 75 76 77 78 79 80 81 82 83 84 85 86 87 88 89 90 91 92 93 94 95 96 97 98 99 100 101 102 103 104 105 106 107 108 109 110 111 112 113 114 115 116 117 118 119 120 121 122 123 124 125 126 127 128 129 130 131 132 133 134 135 136 137 138 139 140 141 142 143 144 145 146 147 148 149 150 151 152 153 154 155 156 157 158 159 160 161 162 163 164 165 166 167 168 169 170 171 172 173 174 175 176 177 178 179 180 181 182 183 184 185 186 187 188 189 190 191 192 193 194 195 196 197 198 199 200 201 202 203 204 205 206 207 208 209 210 211 212 213 214 215 216 217 218 219 220 221 222 223 224 225 226 227 228 229 230 231 232 233 234 235 236 237 238 239 240 241 242 243 244 245 246 247 248 249 250 251 252 253 254 255 256 257 258 259 260 261 262 263 264 265 266 267 268 269 270 271 272 273 274 275 276 277 278 279 280 281 282 283 284 285 286 287 288 289 290 291 292 293 294 295 296 297 298 299 300 301 302 303 304 305 306 307 308 309 310 311 312 313 314 315 316 317 318 319 320 321 322 323 324 325 326 327 328 329 330 331 332 333 334 335 336 337 338 339 340 341 342 343 344 345 346 347 348 349 350 351 352 353 354 355 356 357 358 359 360 361 362 363 364 365 366 367 368 369 370 371 372 373 374 375 376 377 378 379 380 381 382 383 384 385 386 387 388 389 390 391 392 393 394 395 396 397 398 399 400 401 402 403 404 405 406 407 408 409 410 411 412 413 414 415 416 417 418 419 420 421 422 423 424 425 426 427 428 429 430 431 432 433 434 435 436 437 438 439 440 441 442 443 444 445 446 447 448 449 450 451 452 453 454 455 456 457 458 459 460 461 462 463 464 465 466 467 468 469 470 471 472 473 474 475 476 477 478 479 480 481 482 483 484 485 486 487 488 489 490 491 492 493 494 495 496 497 498 499 "
          ]
        }
      ]
    },
    {
      "cell_type": "code",
      "source": [
        "# Program Irfan - Menampilkan bilangan ganjil dari 1 sampai 200\n",
        "i = 1\n",
        "while i <= 200:\n",
        "    if i % 2 == 1:\n",
        "        print(i, end=' ')\n",
        "    i += 1\n"
      ],
      "metadata": {
        "colab": {
          "base_uri": "https://localhost:8080/"
        },
        "id": "OanrZahkbD9q",
        "outputId": "234cbc60-b781-4ca8-fed0-1a39a482a225"
      },
      "execution_count": null,
      "outputs": [
        {
          "output_type": "stream",
          "name": "stdout",
          "text": [
            "1 3 5 7 9 11 13 15 17 19 21 23 25 27 29 31 33 35 37 39 41 43 45 47 49 51 53 55 57 59 61 63 65 67 69 71 73 75 77 79 81 83 85 87 89 91 93 95 97 99 101 103 105 107 109 111 113 115 117 119 121 123 125 127 129 131 133 135 137 139 141 143 145 147 149 151 153 155 157 159 161 163 165 167 169 171 173 175 177 179 181 183 185 187 189 191 193 195 197 199 "
          ]
        }
      ]
    },
    {
      "cell_type": "code",
      "source": [
        "# Input\n",
        "n = int(input(\"Masukkan bilangan unyuk dihitung faktorialnya: \"))\n",
        "\n",
        "# Hitunglah faktorial dengan FOR\n",
        "faktorial_for = 1\n",
        "for i in range(1, n + 1):\n",
        "    faktorial_for *= i\n",
        "\n",
        "print(f\"Faktorial {n} (menggunakan FOR) = {faktorial_for}\")"
      ],
      "metadata": {
        "colab": {
          "base_uri": "https://localhost:8080/"
        },
        "id": "r0K-1M4-b63o",
        "outputId": "3ae03a48-9364-48e3-92c8-f093d7fc7a79"
      },
      "execution_count": null,
      "outputs": [
        {
          "output_type": "stream",
          "name": "stdout",
          "text": [
            "Masukkan bilangan unyuk dihitung faktorialnya: 5\n",
            "Faktorial 5 (menggunakan FOR) = 120\n"
          ]
        }
      ]
    },
    {
      "cell_type": "code",
      "source": [
        "# Hitung faktorial dengan WHILE\n",
        "faktorial_while = 1\n",
        "counter = 1\n",
        "while counter <= n:\n",
        "    faktorial_while *= counter\n",
        "    counter += 1\n",
        "\n",
        "print(f\"Faktorial {n} (menggunakan WHILE) = {faktorial_while}\")"
      ],
      "metadata": {
        "id": "HdQ9Ywa4c80b",
        "colab": {
          "base_uri": "https://localhost:8080/"
        },
        "outputId": "9307f279-2aba-4930-b10f-5797a329d42d"
      },
      "execution_count": 33,
      "outputs": [
        {
          "output_type": "stream",
          "name": "stdout",
          "text": [
            "Faktorial 5 (menggunakan WHILE) = 120\n"
          ]
        }
      ]
    }
  ]
}